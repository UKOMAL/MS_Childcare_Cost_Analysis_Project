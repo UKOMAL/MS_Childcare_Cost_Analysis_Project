{
 "cells": [
  {
   "cell_type": "markdown",
   "metadata": {
    "jp-MarkdownHeadingCollapsed": true
   },
   "source": [
    "# Name: Komal Shahid\n",
    "# DSC 640\n",
    "# Final Project : Milestone1\n",
    "_______________________________________________________________________________"
   ]
  },
  {
   "cell_type": "markdown",
   "metadata": {},
   "source": [
    "# The Hidden Cost of the American Dream: A Deep Dive into Childcare Economics\n",
    "____\n",
    "## Target Audience: Policymakers, Business Leaders, and Working Parents\n",
    "\n",
    "### This analysis explores how childcare costs impact workforce participation and economic opportunity across America. By examining the relationship between childcare prices, female labor force participation, and household income, we uncover the economic barriers facing working families and their implications for policy and business decisions."
   ]
  },
  {
   "cell_type": "code",
   "execution_count": null,
   "metadata": {},
   "outputs": [],
   "source": [
    "# Import required libraries\n",
    "import pandas as pd\n",
    "import numpy as np\n",
    "import matplotlib.pyplot as plt\n",
    "import seaborn as sns\n",
    "from pathlib import Path\n",
    "import sys\n",
    "from datetime import datetime\n",
    "from matplotlib.patches import Polygon\n",
    "from matplotlib.collections import PatchCollection\n",
    "import json\n",
    "import urllib.request\n",
    "import geopandas as gpd\n",
    "from matplotlib.colors import LinearSegmentedColormap"
   ]
  },
  {
   "cell_type": "code",
   "execution_count": null,
   "metadata": {},
   "outputs": [],
   "source": [
    "# Custom styling functions\n",
    "def style_choropleth(ax, title):\n",
    "    \"\"\"Apply consistent styling to choropleth maps\"\"\"\n",
    "    ax.axis('off')\n",
    "    ax.set_title(title, pad=20, fontsize=16, fontweight='bold', \n",
    "                loc='left', fontfamily='Arial')\n",
    "    # Add a subtle background color\n",
    "    ax.set_facecolor('#f7f7f7')\n",
    "    ax.set_aspect('equal')\n",
    "\n",
    "def style_timeseries(ax, title, ylabel):\n",
    "    \"\"\"Apply consistent styling to time series plots\"\"\"\n",
    "    ax.spines['top'].set_visible(False)\n",
    "    ax.spines['right'].set_visible(False)\n",
    "    ax.set_title(title, pad=20, fontsize=16, fontweight='bold', \n",
    "                loc='left', fontfamily='Arial')\n",
    "    ax.set_ylabel(ylabel, fontsize=12)\n",
    "    ax.grid(axis='y', linestyle='--', alpha=0.7)\n",
    "\n",
    "def style_distribution(ax, title):\n",
    "    \"\"\"Apply consistent styling to distribution plots\"\"\"\n",
    "    ax.spines['top'].set_visible(False)\n",
    "    ax.spines['right'].set_visible(False)\n",
    "    ax.set_title(title, pad=20, fontsize=16, fontweight='bold', \n",
    "                loc='left', fontfamily='Arial')\n",
    "    ax.grid(axis='y', linestyle='--', alpha=0.7)\n",
    "\n",
    "def save_figure(fig, filename):\n",
    "    \"\"\"Save figure with consistent settings\"\"\"\n",
    "    fig.savefig(figures_dir / filename, dpi=300, bbox_inches='tight', facecolor='white')\n",
    "    plt.close(fig)"
   ]
  },
  {
   "cell_type": "code",
   "execution_count": null,
   "metadata": {},
   "outputs": [],
   "source": [
    "# Set style for better-looking plots\n",
    "plt.style.use('seaborn-v0_8-whitegrid')\n",
    "plt.rcParams['figure.figsize'] = [12, 8]\n",
    "plt.rcParams['font.family'] = 'sans-serif'\n",
    "plt.rcParams['font.sans-serif'] = ['Arial']\n",
    "plt.rcParams['axes.grid'] = True\n",
    "plt.rcParams['font.size'] = 12\n",
    "plt.rcParams['axes.titlesize'] = 16\n",
    "plt.rcParams['axes.labelsize'] = 12\n",
    "plt.rcParams['axes.spines.top'] = False\n",
    "plt.rcParams['axes.spines.right'] = False"
   ]
  },
  {
   "cell_type": "code",
   "execution_count": null,
   "metadata": {},
   "outputs": [],
   "source": [
    "# Custom color palette inspired by The Economist\n",
    "colors = ['#2f4b7c', '#665191', '#a05195', '#d45087', '#f95d6a', '#ff7c43', '#ffa600']\n",
    "sns.set_palette(colors)\n",
    "\n",
    "print(\"Libraries imported successfully!\")"
   ]
  },
  {
   "cell_type": "code",
   "execution_count": null,
   "metadata": {},
   "outputs": [],
   "source": [
    "# Setup paths and load data\n",
    "try:\n",
    "    root_dir = Path().absolute()\n",
    "    data_dir = root_dir / 'data'\n",
    "    output_dir = root_dir / 'output'\n",
    "    output_dir.mkdir(exist_ok=True)\n",
    "\n",
    "    print(f\"\\nLoading data from: {data_dir}\")\n",
    "    data_file = data_dir / 'nationaldatabaseofchildcareprices.xlsx'\n",
    "    \n",
    "    if not data_file.exists():\n",
    "        print(f\"Error: Data file not found at {data_file}\")\n",
    "        sys.exit(1)\n",
    "\n",
    "    print(\"Loading data (this may take a few moments)...\")\n",
    "    # Only load the columns we need\n",
    "    needed_columns = ['State_Name', 'State_Abbreviation', 'County_Name', 'County_FIPS_Code', \n",
    "                     'StudyYear', 'MCInfant', 'FLFPR_20to64', 'MHI']\n",
    "    df = pd.read_excel(data_file, usecols=needed_columns)\n",
    "    \n",
    "    # Basic data info\n",
    "    print(f\"\\nAnalyzing data from {len(df)} counties across {df['State_Name'].nunique()} states\")\n",
    "    print(f\"Time period: {df['StudyYear'].min()} - {df['StudyYear'].max()}\")\n",
    "\n",
    "    print(\"\\nState count verification:\")\n",
    "    print(df['State_Name'].unique())\n",
    "    print(f\"\\nUnique states ({len(df['State_Name'].unique())}):\")\n",
    "    for state in sorted(df['State_Name'].unique()):\n",
    "        print(f\"- {state}\")\n",
    "\n",
    "except Exception as e:\n",
    "    print(f\"Error: {str(e)}\")\n",
    "    sys.exit(1)\n",
    "\n",
    "# After loading data\n",
    "print(\"\\nNote: The dataset includes the District of Columbia (DC) in addition to the 50 states.\")"
   ]
  },
  {
   "cell_type": "code",
   "execution_count": null,
   "metadata": {},
   "outputs": [],
   "source": [
    "# Create output directories for figures\n",
    "figures_dir = output_dir / 'figures'\n",
    "figures_dir.mkdir(exist_ok=True)\n",
    "\n",
    "# Add county type and income categories\n",
    "df['County_Type'] = df['County_FIPS_Code'].apply(lambda x: 'Urban' if x < 2000 else 'Rural')\n",
    "df['Income_Category'] = pd.qcut(df['MHI'], q=3, labels=['Low Income', 'Middle Income', 'High Income'])"
   ]
  },
  {
   "cell_type": "markdown",
   "metadata": {},
   "source": [
    "### The Geography of Opportunity: Childcare Costs Across America\n",
    "### Understanding regional variations in childcare costs reveals economic disparities and their potential impact on workforce mobility."
   ]
  },
  {
   "cell_type": "code",
   "execution_count": null,
   "metadata": {},
   "outputs": [],
   "source": [
    "# Create an enhanced state comparison visualization using a map\n",
    "plt.figure(figsize=(15, 10))\n",
    "\n",
    "# Calculate state statistics\n",
    "state_stats = df.groupby(['State_Name', 'State_Abbreviation']).agg({\n",
    "    'MCInfant': ['mean', 'std'],\n",
    "    'FLFPR_20to64': 'mean'  # Female Labor Force Participation Rate\n",
    "}).round(2)\n",
    "\n",
    "state_stats.columns = ['avg_price', 'price_std', 'labor_participation']\n",
    "state_stats = state_stats.reset_index()\n",
    "\n",
    "# Create figure and axes for two maps\n",
    "fig, (ax1, ax2) = plt.subplots(2, 1, figsize=(15, 20), height_ratios=[2, 1])\n",
    "fig.patch.set_facecolor('white')\n",
    "\n",
    "# Load US states shapefile\n",
    "usa = gpd.read_file('https://www2.census.gov/geo/tiger/GENZ2018/shp/cb_2018_us_state_20m.zip')\n",
    "# Remove Alaska and Hawaii for better continental US visualization\n",
    "usa = usa[~usa['STUSPS'].isin(['AK', 'HI'])]\n",
    "\n",
    "# Merge data with map\n",
    "usa = usa.merge(state_stats, how='left', left_on='NAME', right_on='State_Name')\n",
    "\n",
    "# Create maps with enhanced styling\n",
    "for ax, column, title, cmap in [\n",
    "    (ax1, 'avg_price', 'Weekly Childcare Costs by State', 'YlOrRd'),\n",
    "    (ax2, 'labor_participation', 'Female Labor Force Participation Rate (%)', 'RdYlBu')\n",
    "]:\n",
    "    # Plot the map\n",
    "    usa.plot(column=column,\n",
    "            ax=ax,\n",
    "            legend=True,\n",
    "            legend_kwds={'label': title,\n",
    "                        'orientation': 'horizontal'},\n",
    "            missing_kwds={'color': 'lightgrey'},\n",
    "            cmap=cmap)\n",
    "    \n",
    "    # Add state labels\n",
    "    for idx, row in usa.iterrows():\n",
    "        # Get centroid for label placement\n",
    "        centroid = row.geometry.centroid\n",
    "        # Add state abbreviation and value\n",
    "        if pd.notnull(row[column]):\n",
    "            if column == 'avg_price':\n",
    "                label = f\"{row['STUSPS']}\\n${row[column]:,.0f}\"\n",
    "            else:\n",
    "                label = f\"{row['STUSPS']}\\n{row[column]:.1f}%\"\n",
    "            ax.annotate(label,\n",
    "                       xy=(centroid.x, centroid.y),\n",
    "                       ha='center', va='center',\n",
    "                       fontsize=8)\n",
    "    \n",
    "    # Customize the map\n",
    "    ax.axis('off')\n",
    "    ax.set_title(title, pad=20, fontsize=16, fontweight='bold')\n",
    "    \n",
    "    # Add source citation\n",
    "    ax.text(0.01, -0.05, 'Source: National Database of Childcare Prices',\n",
    "            transform=ax.transAxes, fontsize=10, style='italic')\n",
    "\n",
    "plt.tight_layout()\n",
    "save_figure(fig, 'childcare_costs_map.png')"
   ]
  },
  {
   "cell_type": "markdown",
   "metadata": {},
   "source": [
    "### The Economic Burden: Understanding Price Distributions\n",
    "### Analyzing the distribution of childcare costs reveals affordability challenges facing American families."
   ]
  },
  {
   "cell_type": "code",
   "execution_count": null,
   "metadata": {},
   "outputs": [],
   "source": []
  },
  {
   "cell_type": "code",
   "execution_count": null,
   "metadata": {},
   "outputs": [],
   "source": [
    "# Create an enhanced price distribution visualization\n",
    "fig, ax = plt.subplots(figsize=(12, 8))\n",
    "fig.patch.set_facecolor('white')\n",
    "\n",
    "# Create a more sophisticated distribution plot\n",
    "sns.kdeplot(data=df, x='MCInfant', fill=True, alpha=0.3, color=colors[0])\n",
    "sns.histplot(data=df, x='MCInfant', alpha=0.4, color=colors[1], stat='density')\n",
    "\n",
    "style_distribution(ax, 'Distribution of Weekly Childcare Costs')\n",
    "ax.set_xlabel('Weekly Cost ($)', fontsize=12)\n",
    "ax.set_ylabel('Density', fontsize=12)\n",
    "\n",
    "# Add statistical annotations with better positioning\n",
    "stats_text = (f'Mean: ${df[\"MCInfant\"].mean():,.0f}\\n'\n",
    "              f'Median: ${df[\"MCInfant\"].median():,.0f}\\n'\n",
    "              f'75th percentile: ${df[\"MCInfant\"].quantile(0.75):,.0f}')\n",
    "plt.text(0.95, 0.95, stats_text, transform=ax.transAxes, \n",
    "         bbox=dict(facecolor='white', alpha=0.8, edgecolor='none'),\n",
    "         va='top', ha='right', fontsize=10)\n",
    "\n",
    "plt.tight_layout()\n",
    "save_figure(fig, 'cost_distribution.png')"
   ]
  },
  {
   "cell_type": "markdown",
   "metadata": {},
   "source": [
    "### The Time Factor: Evolution of Childcare Costs\n",
    "### Tracking how costs have changed over time reveals the growing economic pressure on families."
   ]
  },
  {
   "cell_type": "code",
   "execution_count": null,
   "metadata": {},
   "outputs": [],
   "source": [
    "# Create an enhanced time series visualization\n",
    "fig, ax = plt.subplots(figsize=(12, 8))\n",
    "fig.patch.set_facecolor('white')\n",
    "\n",
    "# Create a more sophisticated time series\n",
    "yearly_avg = df.groupby('StudyYear')['MCInfant'].mean()\n",
    "yearly_std = df.groupby('StudyYear')['MCInfant'].std()\n",
    "\n",
    "# Plot with confidence interval\n",
    "ax.fill_between(yearly_avg.index, \n",
    "                yearly_avg - yearly_std,\n",
    "                yearly_avg + yearly_std,\n",
    "                alpha=0.2, color=colors[0])\n",
    "ax.plot(yearly_avg.index, yearly_avg, \n",
    "        color=colors[0], linewidth=2.5,\n",
    "        marker='o', markersize=8)\n",
    "\n",
    "style_timeseries(ax, 'The Rising Cost of Childcare (2008-2018)',\n",
    "                'Average Weekly Cost ($)')\n",
    "\n",
    "# Add percentage change annotation\n",
    "pct_change = ((yearly_avg.iloc[-1] - yearly_avg.iloc[0]) / yearly_avg.iloc[0] * 100)\n",
    "ax.text(0.02, 0.98, f'Total increase: {pct_change:.1f}%',\n",
    "        transform=ax.transAxes, fontsize=12,\n",
    "        bbox=dict(facecolor='white', alpha=0.8, edgecolor='none'),\n",
    "        va='top', ha='left')\n",
    "\n",
    "plt.tight_layout()\n",
    "save_figure(fig, 'cost_trends.png')"
   ]
  },
  {
   "cell_type": "markdown",
   "metadata": {},
   "source": [
    "### Urban-Rural Divide: Geographic Disparities in Childcare Access\n",
    "### Examining how childcare costs differ between urban and rural areas reveals important accessibility gaps."
   ]
  },
  {
   "cell_type": "code",
   "execution_count": null,
   "metadata": {},
   "outputs": [],
   "source": [
    "# Create enhanced urban-rural comparison\n",
    "fig, ax = plt.subplots(figsize=(12, 8))\n",
    "fig.patch.set_facecolor('white')\n",
    "\n",
    "# Create a more sophisticated violin plot\n",
    "sns.violinplot(data=df, x='County_Type', y='MCInfant', \n",
    "               hue='Income_Category', split=True,\n",
    "               inner='quartile', palette=colors[:3])\n",
    "\n",
    "style_distribution(ax, 'Urban-Rural Childcare Cost Divide')\n",
    "ax.set_ylabel('Weekly Cost ($)', fontsize=12)\n",
    "\n",
    "# Add statistical annotations\n",
    "for county_type in ['Urban', 'Rural']:\n",
    "    mean_val = df[df['County_Type'] == county_type]['MCInfant'].mean()\n",
    "    ax.text(0 if county_type == 'Urban' else 1, \n",
    "            df['MCInfant'].max() * 1.1,\n",
    "            f'Mean: ${mean_val:,.0f}',\n",
    "            ha='center', va='bottom', fontsize=10)\n",
    "\n",
    "plt.tight_layout()\n",
    "save_figure(fig, 'urban_rural_comparison.png')"
   ]
  },
  {
   "cell_type": "code",
   "execution_count": null,
   "metadata": {},
   "outputs": [],
   "source": [
    "print(\"Analysis complete! The visualizations and report have been generated.\")\n",
    "print(f\"\\nFigures have been saved in: {figures_dir}\")\n",
    "print(\"Note: All visualizations include data from the 50 states and DC.\") "
   ]
  }
 ],
 "metadata": {
  "kernelspec": {
   "display_name": "Python 3 (ipykernel)",
   "language": "python",
   "name": "python3"
  },
  "language_info": {
   "codemirror_mode": {
    "name": "ipython",
    "version": 3
   },
   "file_extension": ".py",
   "mimetype": "text/x-python",
   "name": "python",
   "nbconvert_exporter": "python",
   "pygments_lexer": "ipython3",
   "version": "3.13.0"
  }
 },
 "nbformat": 4,
 "nbformat_minor": 4
}
